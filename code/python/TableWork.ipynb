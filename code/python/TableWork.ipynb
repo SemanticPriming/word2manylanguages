{
 "cells": [
  {
   "cell_type": "code",
   "execution_count": 8,
   "id": "480e18bb",
   "metadata": {},
   "outputs": [],
   "source": [
    "import matplotlib.pyplot as plt\n",
    "import matplotlib\n",
    "import matplotlib as mpl\n",
    "import numpy as np\n",
    "import os\n",
    "import pandas as pd\n",
    "\n",
    "basedir = os.path.join('Y:\\\\', 'Dissertation')\n",
    "scoredir = 'scores'\n",
    "scorepath = os.path.join(basedir, scoredir)\n",
    "code2lang = os.path.join(basedir, \"geo\", \"code2lang.csv\")\n",
    "\n",
    "code_df = pd.read_csv(code2lang)"
   ]
  },
  {
   "cell_type": "code",
   "execution_count": 26,
   "id": "96c0dd36",
   "metadata": {},
   "outputs": [],
   "source": [
    "file = os.path.join(scorepath,\"top_3_per_algo.csv\")\n",
    "df = pd.read_csv(file, header=0)\n",
    "df.columns = ['Index', 'code', 'Dimensions', 'Window', 'Algorithm', 'Norm', 'Score']\n",
    "df.set_index('Index', inplace=True)\n",
    "df = df.merge(code_df, on=\"code\")\n",
    "df.loc[df[\"Algorithm\"] == \"cbow\", \"Algorithm\"] = 'CBOW'\n",
    "df.loc[df[\"Algorithm\"] == \"sg\", \"Algorithm\"] = 'Skip-gram'\n",
    "df = df.drop(columns=['code'])\n",
    "df = df[['Language', 'Dimensions', 'Window', 'Algorithm', 'Norm', 'Score']]\n",
    "df.to_csv(file)"
   ]
  },
  {
   "cell_type": "code",
   "execution_count": null,
   "id": "77628027",
   "metadata": {},
   "outputs": [],
   "source": [
    "\n"
   ]
  },
  {
   "cell_type": "code",
   "execution_count": null,
   "id": "df21b26d",
   "metadata": {},
   "outputs": [],
   "source": []
  }
 ],
 "metadata": {
  "kernelspec": {
   "display_name": "Python 3 (ipykernel)",
   "language": "python",
   "name": "python3"
  },
  "language_info": {
   "codemirror_mode": {
    "name": "ipython",
    "version": 3
   },
   "file_extension": ".py",
   "mimetype": "text/x-python",
   "name": "python",
   "nbconvert_exporter": "python",
   "pygments_lexer": "ipython3",
   "version": "3.11.5"
  }
 },
 "nbformat": 4,
 "nbformat_minor": 5
}
