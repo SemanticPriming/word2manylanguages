{
 "cells": [
  {
   "cell_type": "code",
   "execution_count": 8,
   "id": "da2021d0",
   "metadata": {},
   "outputs": [],
   "source": [
    "import glob\n",
    "import os\n",
    "import pandas as pd\n",
    "\n",
    "basedir = os.path.join('Y:\\\\', 'Dissertation')\n",
    "scoredir = 'scores'\n",
    "scorepath = os.path.join(basedir, scoredir)\n",
    "\n",
    "files = glob.glob(scorepath + \"\\\\*_scores.csv\")\n"
   ]
  },
  {
   "cell_type": "code",
   "execution_count": 20,
   "id": "afc47c90",
   "metadata": {},
   "outputs": [],
   "source": [
    "def sort_scores(arr):\n",
    "    n = len(arr)\n",
    "    for i in range(n-1):\n",
    "        swapped = False\n",
    "        for j in range(0, n-i-1):\n",
    "            if arr[j][6] < arr[j + 1][6]:\n",
    "                swapped = True\n",
    "                arr[j], arr[j + 1] = arr[j + 1], arr[j]\n",
    "\n",
    "        if not swapped:\n",
    "            return"
   ]
  },
  {
   "cell_type": "code",
   "execution_count": 21,
   "id": "f681b48b",
   "metadata": {},
   "outputs": [
    {
     "name": "stdout",
     "output_type": "stream",
     "text": [
      "Reading Y:\\Dissertation\\scores\\de_scores.csv\n",
      "Reading Y:\\Dissertation\\scores\\en_scores.csv\n",
      "Reading Y:\\Dissertation\\scores\\es_scores.csv\n",
      "Reading Y:\\Dissertation\\scores\\fr_scores.csv\n",
      "Reading Y:\\Dissertation\\scores\\it_scores.csv\n",
      "Reading Y:\\Dissertation\\scores\\pl_scores.csv\n",
      "Reading Y:\\Dissertation\\scores\\pt_scores.csv\n",
      "Reading Y:\\Dissertation\\scores\\ru_scores.csv\n",
      "Reading Y:\\Dissertation\\scores\\zh_scores.csv\n"
     ]
    }
   ],
   "source": [
    "groups = dict()\n",
    "for file in files:\n",
    "    print(f'Reading {file}')\n",
    "    lang = None\n",
    "    # Read the file\n",
    "    with open(file, 'r') as f:\n",
    "        # Skip the header\n",
    "        header = f.readline()\n",
    "        # Get the first line of content\n",
    "        line = f.readline()\n",
    "        # read the lines, split into arrays, separate into\n",
    "        # groups by norm\n",
    "        while line != None:\n",
    "            parts = line.split(',')\n",
    "            lang = parts[1]\n",
    "            norm = parts[5]\n",
    "            if norm in groups:\n",
    "                nlist = groups[norm]\n",
    "            else:\n",
    "                nlist = list()\n",
    "                groups[norm] = nlist\n",
    "            nlist.append(parts)\n",
    "            line = f.readline()\n",
    "            if len(line.strip()) < 1: break\n",
    "    # Sort each norm\n",
    "    for norm in groups:\n",
    "        sort_scores(groups[norm])\n",
    "        \n",
    "    sorted_scores = list()\n",
    "    # Put the top three from each group in a new list\n",
    "    for norm in groups:\n",
    "        for i in range(3):\n",
    "            sorted_scores.append(groups[norm][i])\n",
    "            \n",
    "    # Make dataframe\n",
    "    dataframe = pd.DataFrame(sorted_scores)\n",
    "    colnames = header.strip().split(',')\n",
    "    dataframe.columns=colnames\n",
    "    \n",
    "    \n",
    "    outfilename = f'{lang}_scores_grouped.csv'\n",
    "    outfile = os.path.join(scorepath,outfilename)\n",
    "    dataframe.to_csv(outfile)\n",
    "            \n",
    "    \n",
    "                     "
   ]
  },
  {
   "cell_type": "code",
   "execution_count": null,
   "id": "ca3e1f37",
   "metadata": {},
   "outputs": [],
   "source": []
  }
 ],
 "metadata": {
  "kernelspec": {
   "display_name": "Python 3 (ipykernel)",
   "language": "python",
   "name": "python3"
  },
  "language_info": {
   "codemirror_mode": {
    "name": "ipython",
    "version": 3
   },
   "file_extension": ".py",
   "mimetype": "text/x-python",
   "name": "python",
   "nbconvert_exporter": "python",
   "pygments_lexer": "ipython3",
   "version": "3.11.5"
  }
 },
 "nbformat": 4,
 "nbformat_minor": 5
}
